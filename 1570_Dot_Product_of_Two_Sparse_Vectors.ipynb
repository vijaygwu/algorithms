{
  "nbformat": 4,
  "nbformat_minor": 0,
  "metadata": {
    "colab": {
      "provenance": [],
      "authorship_tag": "ABX9TyMQGKP5LSjGAx29qgFRCC8/",
      "include_colab_link": true
    },
    "kernelspec": {
      "name": "python3",
      "display_name": "Python 3"
    },
    "language_info": {
      "name": "python"
    }
  },
  "cells": [
    {
      "cell_type": "markdown",
      "metadata": {
        "id": "view-in-github",
        "colab_type": "text"
      },
      "source": [
        "<a href=\"https://colab.research.google.com/github/vijaygwu/algorithms/blob/main/1570_Dot_Product_of_Two_Sparse_Vectors.ipynb\" target=\"_parent\"><img src=\"https://colab.research.google.com/assets/colab-badge.svg\" alt=\"Open In Colab\"/></a>"
      ]
    },
    {
      "cell_type": "markdown",
      "source": [
        "**Given two sparse vectors, compute their dot product.**\n",
        "\n",
        "**Implement class SparseVector:**\n",
        "\n",
        "SparseVector(nums) Initializes the object with the vector nums\n",
        "dotProduct(vec) Compute the dot product between the instance of SparseVector and vec\n",
        "\n",
        "A sparse vector is a vector that has mostly zero values, you should store the sparse vector efficiently and compute the dot product between two SparseVector.\n",
        "\n",
        "Follow up: What if only one of the vectors is sparse?\n",
        "\n",
        "\n",
        "\n",
        "**Example 1:**\n",
        "\n",
        "Input: nums1 = [1,0,0,2,3], nums2 = [0,3,0,4,0]\n",
        "Output: 8\n",
        "Explanation: v1 = SparseVector(nums1) , v2 = SparseVector(nums2)\n",
        "v1.dotProduct(v2) = 1*0 + 0*3 + 0*0 + 2*4 + 3*0 = 8\n",
        "\n",
        "**Example 2:**\n",
        "\n",
        "Input: nums1 = [0,1,0,0,0], nums2 = [0,0,0,0,2]\n",
        "Output: 0\n",
        "Explanation: v1 = SparseVector(nums1) , v2 = SparseVector(nums2)\n",
        "v1.dotProduct(v2) = 0*0 + 1*0 + 0*0 + 0*0 + 0*2 = 0\n",
        "\n",
        "**Example 3:**\n",
        "\n",
        "Input: nums1 = [0,1,0,0,2,0,0], nums2 = [1,0,0,0,3,0,4]\n",
        "Output: 6\n",
        "\n",
        "\n",
        "**Constraints:**\n",
        "\n",
        "n == nums1.length == nums2.length\n",
        "1 <= n <= 10^5\n",
        "0 <= nums1[i], nums2[i] <= 100"
      ],
      "metadata": {
        "id": "0N765_E7OUKe"
      }
    },
    {
      "cell_type": "markdown",
      "source": [
        "I'll provide a detailed explanation of the `SparseVector` class implementation:\n",
        "\n",
        "## SparseVector Class Overview\n",
        "\n",
        "This class implements a memory-efficient representation of sparse vectors (vectors where most elements are zero) and provides a method to calculate the dot product between two sparse vectors.\n",
        "\n",
        "## Detailed Implementation Analysis\n",
        "\n",
        "### The Constructor Method\n",
        "\n",
        "```python\n",
        "def __init__(self, nums: List[int]):\n",
        "    self.nonzeros = {}\n",
        "    for i, n in enumerate(nums):\n",
        "        if n != 0:\n",
        "            self.nonzeros[i] = n\n",
        "```\n",
        "\n",
        "1. **Parameter**: `nums` - A list of integers representing the vector\n",
        "2. **Data Structure**: `self.nonzeros` - A dictionary to store only non-zero elements\n",
        "3. **Process**:\n",
        "   - Initializes an empty dictionary called `nonzeros`\n",
        "   - Uses `enumerate(nums)` to loop through each element with its index\n",
        "   - For each element that is not zero (`if n != 0`), adds an entry to the dictionary\n",
        "   - Dictionary keys are indices (positions) in the original vector\n",
        "   - Dictionary values are the non-zero values at those positions\n",
        "\n",
        "For example, if `nums = [0, 3, 0, 0, 4, 0]`:\n",
        "- We iterate through elements: (0,0), (1,3), (2,0), (3,0), (4,4), (5,0)\n",
        "- We only store non-zeros, so `nonzeros = {1: 3, 4: 4}`\n",
        "- This means position 1 has value 3, and position 4 has value 4\n",
        "\n",
        "### The Dot Product Method\n",
        "\n",
        "```python\n",
        "def dotProduct(self, vec: 'SparseVector') -> int:\n",
        "    result = 0\n",
        "    for i, n in self.nonzeros.items():\n",
        "        if i in vec.nonzeros:\n",
        "            result += n * vec.nonzeros[i]\n",
        "    return result\n",
        "```\n",
        "\n",
        "1. **Parameter**: `vec` - Another `SparseVector` object\n",
        "2. **Return Type**: `int` - The dot product result\n",
        "3. **Process**:\n",
        "   - Initializes `result` to 0\n",
        "   - Iterates through each index-value pair in the current vector's `nonzeros` dictionary\n",
        "   - Checks if the same index exists in the other vector's `nonzeros` dictionary\n",
        "   - If it does, multiplies the values at that index and adds to the `result`\n",
        "   - Returns the final `result`\n",
        "\n",
        "## Example Execution\n",
        "\n",
        "Consider two vectors:\n",
        "- Vector A: [0, 2, 0, 3, 0]\n",
        "- Vector B: [0, 1, 0, 0, 5]\n",
        "\n",
        "Internal representation:\n",
        "- A.nonzeros = {1: 2, 3: 3}\n",
        "- B.nonzeros = {1: 1, 4: 5}\n",
        "\n",
        "Calculating dot product:\n",
        "1. Iterate through A.nonzeros (indices 1, 3):\n",
        "   - Index 1: Found in B.nonzeros, so add 2 * 1 = 2 to result\n",
        "   - Index 3: Not found in B.nonzeros, so skip\n",
        "2. Final result = 2\n",
        "\n",
        "## Computational Benefits\n",
        "\n",
        "1. **Space Efficiency**:\n",
        "   - For a vector with length n where most elements are zero, storage is reduced from O(n) to O(k) where k is the number of non-zero elements\n",
        "   - Particularly valuable for very large, sparse vectors (common in machine learning, text processing)\n",
        "\n",
        "2. **Time Efficiency**:\n",
        "   - Dot product operation becomes O(min(k1, k2)) where k1, k2 are the number of non-zero elements in each vector\n",
        "   - Much faster than O(n) when vectors are sparse\n",
        "\n",
        "3. **Practical Applications**:\n",
        "   - Text processing (document vectors in search engines)\n",
        "   - Recommendation systems\n",
        "   - Feature vectors in machine learning\n",
        "   - Network/graph algorithms\n",
        "\n",
        "This implementation elegantly solves the problem of efficiently representing and operating on sparse vectors by storing only the essential information."
      ],
      "metadata": {
        "id": "saicqXC9PELx"
      }
    },
    {
      "cell_type": "code",
      "source": [
        "from typing import List\n",
        "\n",
        "class SparseVector:\n",
        "    def __init__(self, nums: List[int]):\n",
        "        self.nonzeros = {}\n",
        "        for i, n in enumerate(nums):\n",
        "            if n != 0:\n",
        "                self.nonzeros[i] = n\n",
        "\n",
        "\n",
        "    # Return the dotProduct of two sparse vectors\n",
        "    def dotProduct(self, vec: 'SparseVector') -> int:\n",
        "        result = 0\n",
        "        for i, n in self.nonzeros.items():\n",
        "            if i in vec.nonzeros:\n",
        "                result += n * vec.nonzeros[i]\n",
        "        return result"
      ],
      "metadata": {
        "id": "3C82ZEv3PEhX"
      },
      "execution_count": 2,
      "outputs": []
    },
    {
      "cell_type": "code",
      "source": [
        "def test_sparse_vector():\n",
        "    # Test case 1: Basic test with some overlapping non-zero elements\n",
        "    v1 = SparseVector([1, 0, 0, 2, 3])\n",
        "    v2 = SparseVector([0, 2, 3, 0, 1])\n",
        "    print(f\"Test case 1: {v1.dotProduct(v2)} (Expected: 3)\")\n",
        "\n",
        "    # Test case 2: No overlapping non-zero elements\n",
        "    v3 = SparseVector([0, 1, 0, 0, 2])\n",
        "    v4 = SparseVector([3, 0, 4, 0, 0])\n",
        "    print(f\"Test case 2: {v3.dotProduct(v4)} (Expected: 0)\")\n",
        "\n",
        "    # Test case 3: All zeros\n",
        "    v5 = SparseVector([0, 0, 0])\n",
        "    v6 = SparseVector([0, 0, 0])\n",
        "    print(f\"Test case 3: {v5.dotProduct(v6)} (Expected: 0)\")\n",
        "\n",
        "    # Test case 4: Empty vectors\n",
        "    v7 = SparseVector([])\n",
        "    v8 = SparseVector([])\n",
        "    print(f\"Test case 4: {v7.dotProduct(v8)} (Expected: 0)\")\n",
        "\n",
        "    # Test case 5: Large vectors\n",
        "    v9 = SparseVector([0] * 999 + [5])\n",
        "    v10 = SparseVector([0] * 999 + [3])\n",
        "    print(f\"Test case 5: {v9.dotProduct(v10)} (Expected: 15)\")\n",
        "\n",
        "# Run the manual tests\n",
        "test_sparse_vector()"
      ],
      "metadata": {
        "colab": {
          "base_uri": "https://localhost:8080/"
        },
        "id": "os4UEXgtPtkx",
        "outputId": "b478e881-2983-4838-fb32-3f1930309f50"
      },
      "execution_count": 3,
      "outputs": [
        {
          "output_type": "stream",
          "name": "stdout",
          "text": [
            "Test case 1: 3 (Expected: 3)\n",
            "Test case 2: 0 (Expected: 0)\n",
            "Test case 3: 0 (Expected: 0)\n",
            "Test case 4: 0 (Expected: 0)\n",
            "Test case 5: 15 (Expected: 15)\n"
          ]
        }
      ]
    }
  ]
}