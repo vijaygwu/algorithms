{
  "nbformat": 4,
  "nbformat_minor": 0,
  "metadata": {
    "colab": {
      "provenance": [],
      "authorship_tag": "ABX9TyOT4vLkB5FfY+DYPVl3ttHV",
      "include_colab_link": true
    },
    "kernelspec": {
      "name": "python3",
      "display_name": "Python 3"
    },
    "language_info": {
      "name": "python"
    }
  },
  "cells": [
    {
      "cell_type": "markdown",
      "metadata": {
        "id": "view-in-github",
        "colab_type": "text"
      },
      "source": [
        "<a href=\"https://colab.research.google.com/github/vijaygwu/algorithms/blob/main/Random_Pick_with_Weight.ipynb\" target=\"_parent\"><img src=\"https://colab.research.google.com/assets/colab-badge.svg\" alt=\"Open In Colab\"/></a>"
      ]
    },
    {
      "cell_type": "markdown",
      "source": [
        "**528. Random Pick with Weight**\n",
        "\n",
        "You are given a 0-indexed array of positive integers w where w[i] describes the weight of the ith index.\n",
        "\n",
        "You need to implement the function pickIndex(), which randomly picks an index in the range [0, w.length - 1] (inclusive) and returns it. The probability of picking an index i is w[i] / sum(w).\n",
        "\n",
        "For example, if w = [1, 3], the probability of picking index 0 is 1 / (1 + 3) = 0.25 (i.e., 25%), and the probability of picking index 1 is 3 / (1 + 3) = 0.75 (i.e., 75%)."
      ],
      "metadata": {
        "id": "_b8rOohENYsp"
      }
    },
    {
      "cell_type": "markdown",
      "source": [
        "\n",
        "\n",
        "## Code Explanation\n",
        "\n",
        "```python\n",
        "from typing import List\n",
        "import random\n",
        "\n",
        "class Solution:\n",
        "    def __init__(self, w: List[int]):\n",
        "        \"\"\"\n",
        "        :type w: List[int]\n",
        "        \"\"\"\n",
        "        self.prefix_sums = []\n",
        "        prefix_sum = 0\n",
        "        for weight in w:\n",
        "            prefix_sum += weight\n",
        "            self.prefix_sums.append(prefix_sum)\n",
        "        self.total_sum = prefix_sum\n",
        "\n",
        "    def pickIndex(self) -> int:\n",
        "        \"\"\"\n",
        "        :rtype: int\n",
        "        \"\"\"\n",
        "        target = self.total_sum * random.random()\n",
        "        # run a linear search to find the target zone\n",
        "        for i, prefix_sum in enumerate(self.prefix_sums):\n",
        "            if target < prefix_sum:\n",
        "                return i\n",
        "```\n",
        "\n",
        "## Step-by-Step Breakdown\n",
        "\n",
        "1. **Initialization (`__init__`)**:\n",
        "   - The constructor takes an array of weights `w`.\n",
        "   - It creates a `prefix_sums` array where each element is the cumulative sum of weights up to that index.\n",
        "   - For example, if `w = [1, 3, 2]`, then `prefix_sums = [1, 4, 6]`.\n",
        "   - It also stores the total sum of all weights (6 in this example).\n",
        "\n",
        "2. **Pick Index (`pickIndex`)**:\n",
        "   - Generates a random floating-point number between 0 and `total_sum` using `random.random()` (which returns a value in [0, 1)) multiplied by `total_sum`.\n",
        "   - Uses a linear search through the prefix sums array to find the first index where the target is less than the prefix sum.\n",
        "   - This approach divides the range [0, total_sum] into segments proportional to the weights.\n",
        "\n",
        "## Visual Example\n",
        "\n",
        "If `w = [1, 3, 2]`:\n",
        "- `prefix_sums = [1, 4, 6]`\n",
        "- `total_sum = 6`\n",
        "\n",
        "The range [0, 6) is divided into three segments:\n",
        "- [0, 1): corresponds to index 0 with probability 1/6\n",
        "- [1, 4): corresponds to index 1 with probability 3/6\n",
        "- [4, 6): corresponds to index 2 with probability 2/6\n",
        "\n",
        "When `pickIndex()` is called:\n",
        "- If `random.random() * 6` falls in [0, 1), return index 0\n",
        "- If it falls in [1, 4), return index 1\n",
        "- If it falls in [4, 6), return index 2\n",
        "\n",
        "## Time and Space Complexity\n",
        "\n",
        "- **Time Complexity**:\n",
        "  - Initialization: O(n) to create the prefix sums array\n",
        "  - `pickIndex()`: O(n) for the linear search through the prefix sums\n",
        "  \n",
        "- **Space Complexity**: O(n) for storing the prefix sums array\n",
        "\n",
        "## Potential Optimization\n",
        "\n",
        "The provided solution uses a linear search in `pickIndex()`, but it could be optimized using binary search to achieve O(log n) time complexity for that operation, especially important when there are many weights.\n"
      ],
      "metadata": {
        "id": "vhy94LFXOBhi"
      }
    },
    {
      "cell_type": "code",
      "source": [
        "from typing import List\n",
        "import random\n",
        "\n",
        "class Solution:\n",
        "\n",
        "    def __init__(self, w: List[int]):\n",
        "        \"\"\"\n",
        "        :type w: List[int]\n",
        "        \"\"\"\n",
        "        self.prefix_sums = []\n",
        "        prefix_sum = 0\n",
        "        for weight in w:\n",
        "            prefix_sum += weight\n",
        "            self.prefix_sums.append(prefix_sum)\n",
        "        self.total_sum = prefix_sum\n",
        "\n",
        "    def pickIndex(self) -> int:\n",
        "        \"\"\"\n",
        "        :rtype: int\n",
        "        \"\"\"\n",
        "        target = self.total_sum * random.random()\n",
        "        # run a linear search to find the target zone\n",
        "        for i, prefix_sum in enumerate(self.prefix_sums):\n",
        "            if target < prefix_sum:\n",
        "                return i"
      ],
      "metadata": {
        "id": "6Yr9AALxNY-A"
      },
      "execution_count": 2,
      "outputs": []
    },
    {
      "cell_type": "code",
      "source": [
        "from typing import List\n",
        "import collections\n",
        "\n",
        "# Test case 1: Equal weights\n",
        "w1 = [1, 1, 1, 1]\n",
        "sol1 = Solution(w1)\n",
        "results1 = [sol1.pickIndex() for _ in range(10000)]\n",
        "count1 = collections.Counter(results1)\n",
        "print(\"Equal weights distribution:\", count1)\n",
        "\n",
        "\n",
        "# Test case 2: Different weights\n",
        "w2 = [1, 3, 2, 4]\n",
        "sol2 = Solution(w2)\n",
        "results2 = [sol2.pickIndex() for _ in range(10000)]\n",
        "count2 = collections.Counter(results2)\n",
        "print(\"Different weights distribution:\", count2)"
      ],
      "metadata": {
        "colab": {
          "base_uri": "https://localhost:8080/"
        },
        "id": "etNAzW85OPFG",
        "outputId": "cf7bdf9e-c7c1-4bd8-b3de-9475177f7f4e"
      },
      "execution_count": 6,
      "outputs": [
        {
          "output_type": "stream",
          "name": "stdout",
          "text": [
            "Equal weights distribution: Counter({3: 2580, 1: 2486, 2: 2486, 0: 2448})\n",
            "Different weights distribution: Counter({3: 4035, 1: 2965, 2: 1982, 0: 1018})\n"
          ]
        }
      ]
    }
  ]
}