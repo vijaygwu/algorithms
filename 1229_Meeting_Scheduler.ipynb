{
  "nbformat": 4,
  "nbformat_minor": 0,
  "metadata": {
    "colab": {
      "provenance": [],
      "authorship_tag": "ABX9TyPrjxyHoiWPFCFOHc4Tov13",
      "include_colab_link": true
    },
    "kernelspec": {
      "name": "python3",
      "display_name": "Python 3"
    },
    "language_info": {
      "name": "python"
    }
  },
  "cells": [
    {
      "cell_type": "markdown",
      "metadata": {
        "id": "view-in-github",
        "colab_type": "text"
      },
      "source": [
        "<a href=\"https://colab.research.google.com/github/vijaygwu/algorithms/blob/main/1229_Meeting_Scheduler.ipynb\" target=\"_parent\"><img src=\"https://colab.research.google.com/assets/colab-badge.svg\" alt=\"Open In Colab\"/></a>"
      ]
    },
    {
      "cell_type": "markdown",
      "source": [
        "Given the availability time slots arrays slots1 and slots2 of two people and a meeting duration duration, return the earliest time slot that works for both of them and is of duration duration.\n",
        "\n",
        "If there is no common time slot that satisfies the requirements, return an empty array.\n",
        "\n",
        "The format of a time slot is an array of two elements [start, end] representing an inclusive time range from start to end.\n",
        "\n",
        "It is guaranteed that no two availability slots of the same person intersect with each other. That is, for any two time slots [start1, end1] and [start2, end2] of the same person, either start1 > end2 or start2 > end1.\n",
        "\n",
        "**Example 1:**\n",
        "\n",
        "Input: slots1 = [[10,50],[60,120],[140,210]], slots2 = [[0,15],[60,70]], duration = 8\n",
        "Output: [60,68]\n",
        "Example 2:\n",
        "\n",
        "Input: slots1 = [[10,50],[60,120],[140,210]], slots2 = [[0,15],[60,70]], duration = 12\n",
        "Output: []\n",
        "\n",
        "\n",
        "**Constraints:**\n",
        "\n",
        "1 <= slots1.length, slots2.length <= 104\n",
        "slots1[i].length, slots2[i].length == 2\n",
        "slots1[i][0] < slots1[i][1]\n",
        "slots2[i][0] < slots2[i][1]\n",
        "0 <= slots1[i][j], slots2[i][j] <= 109\n",
        "1 <= duration <= 106"
      ],
      "metadata": {
        "id": "Mt26wmcMLbq8"
      }
    },
    {
      "cell_type": "markdown",
      "source": [
        "This is a solution to find a common time slot of at least a specified duration between two people's schedules.\n",
        "\n",
        "```python\n",
        "def minAvailableDuration(self, slots1: List[List[int]], slots2: List[List[int]], duration: int) -> List[int]:\n",
        "    # Filter out slots that are too short to fit the required duration\n",
        "    timeslots = list(filter(lambda x: x[1] - x[0] >= duration, slots1 + slots2))\n",
        "    \n",
        "    # Convert list into a min heap, sorted by start time\n",
        "    heapq.heapify(timeslots)\n",
        "\n",
        "    # Process the heap until only one or zero elements remain\n",
        "    while len(timeslots) > 1:\n",
        "        # Extract the earliest slot\n",
        "        start1, end1 = heapq.heappop(timeslots)\n",
        "        \n",
        "        # Peek at the next earliest slot\n",
        "        start2, end2 = timeslots[0]\n",
        "        \n",
        "        # Check if there's an overlap of at least 'duration' length\n",
        "        if end1 >= start2 + duration:\n",
        "            return [start2, start2 + duration]\n",
        "\n",
        "    # No suitable overlap found\n",
        "    return []\n",
        "```\n",
        "\n",
        "Here's how the algorithm works:\n",
        "\n",
        "1. **Preprocessing**:\n",
        "   - First, it combines the two lists of time slots (`slots1` and `slots2`) into a single list.\n",
        "   - It filters out any slots that are shorter than the required `duration`, as they can't possibly work.\n",
        "   - Each slot is represented as a pair `[start_time, end_time]`.\n",
        "\n",
        "2. **Sorting with a Heap**:\n",
        "   - It converts the filtered list of time slots into a min heap, which automatically sorts them by start time.\n",
        "   - This makes it efficient to always process the earliest slot first.\n",
        "\n",
        "3. **Finding Overlaps**:\n",
        "   - The algorithm then processes the heap, popping the earliest time slot (`start1`, `end1`).\n",
        "   - It peeks at the next earliest slot (`start2`, `end2`), which is at index 0 of the heap.\n",
        "   - It checks if there's a sufficient overlap between the two slots: if `end1 >= start2 + duration`, it means there's at least `duration` time available from `start2`.\n",
        "   - If such an overlap exists, it returns `[start2, start2 + duration]`, which is the earliest common time slot of the required duration.\n",
        "\n",
        "4. **Edge Case**:\n",
        "   - If the algorithm processes the entire heap without finding a suitable overlap (or if there were fewer than 2 valid slots to begin with), it returns an empty list `[]` to indicate that no common time slot of the required duration exists.\n",
        "\n",
        "The time complexity is O((n+m) log(n+m)) where n and m are the lengths of the two input arrays, due to the heap operations. The space complexity is O(n+m) for storing the combined and filtered time slots.\n"
      ],
      "metadata": {
        "id": "C9kTRTioLXgm"
      }
    },
    {
      "cell_type": "code",
      "source": [
        "from typing import List\n",
        "\n",
        "class Solution:\n",
        "   def minAvailableDuration(self, slots1: List[List[int]], slots2: List[List[int]], duration: int) -> List[int]:\n",
        "       timeslots = list(filter(lambda x: x[1] - x[0] >= duration, slots1 + slots2))\n",
        "       heapq.heapify(timeslots)\n",
        "\n",
        "\n",
        "       while len(timeslots) > 1:\n",
        "           start1, end1 = heapq.heappop(timeslots)\n",
        "           start2, end2 = timeslots[0]\n",
        "           if end1 >= start2 + duration:\n",
        "               return [start2, start2 + duration]\n",
        "\n",
        "\n",
        "       return []\n",
        "\n"
      ],
      "metadata": {
        "id": "jbMzTUYIMCrf"
      },
      "execution_count": 7,
      "outputs": []
    },
    {
      "cell_type": "code",
      "source": [
        "import unittest, heapq\n",
        "\n",
        "class TestMinAvailableDuration(unittest.TestCase):\n",
        "\n",
        "    def test_no_overlap(self):\n",
        "        slots1 = [[10, 50], [60, 120], [140, 210]]\n",
        "        slots2 = [[0, 15], [60, 70]]\n",
        "        duration = 60  # Longer than any overlap\n",
        "        result = Solution().minAvailableDuration(slots1, slots2, duration)\n",
        "        self.assertEqual(result, [])\n",
        "        print(f\"Test case 'no_overlap': Expected [], Got {result}\")  # Print message\n",
        "\n",
        "    def test_short_overlap(self):\n",
        "        slots1 = [[10, 50], [60, 120], [140, 210]]\n",
        "        slots2 = [[0, 15], [60, 70]]\n",
        "        duration = 8\n",
        "        result = Solution().minAvailableDuration(slots1, slots2, duration)\n",
        "        self.assertEqual(result, [60, 68])\n",
        "        print(f\"Test case 'short_overlap': Expected [60, 68], Got {result}\")  # Print message\n",
        "\n",
        "\n",
        "unittest.main(argv=['first-arg-is-ignored'], exit=False)"
      ],
      "metadata": {
        "colab": {
          "base_uri": "https://localhost:8080/"
        },
        "id": "wny_UZ2vMlS3",
        "outputId": "bd225acc-bc64-4d16-fc43-7d1b6e118f4b"
      },
      "execution_count": 8,
      "outputs": [
        {
          "output_type": "stream",
          "name": "stderr",
          "text": [
            "..\n",
            "----------------------------------------------------------------------\n",
            "Ran 2 tests in 0.003s\n",
            "\n",
            "OK\n"
          ]
        },
        {
          "output_type": "stream",
          "name": "stdout",
          "text": [
            "Test case 'no_overlap': Expected [], Got []\n",
            "Test case 'short_overlap': Expected [60, 68], Got [60, 68]\n"
          ]
        },
        {
          "output_type": "execute_result",
          "data": {
            "text/plain": [
              "<unittest.main.TestProgram at 0x7e33529e4610>"
            ]
          },
          "metadata": {},
          "execution_count": 8
        }
      ]
    }
  ]
}