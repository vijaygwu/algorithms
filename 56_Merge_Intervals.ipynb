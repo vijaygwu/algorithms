{
  "nbformat": 4,
  "nbformat_minor": 0,
  "metadata": {
    "colab": {
      "provenance": [],
      "authorship_tag": "ABX9TyMCjX2qrNDxGFYkMWhMuwF1",
      "include_colab_link": true
    },
    "kernelspec": {
      "name": "python3",
      "display_name": "Python 3"
    },
    "language_info": {
      "name": "python"
    }
  },
  "cells": [
    {
      "cell_type": "markdown",
      "metadata": {
        "id": "view-in-github",
        "colab_type": "text"
      },
      "source": [
        "<a href=\"https://colab.research.google.com/github/vijaygwu/algorithms/blob/main/56_Merge_Intervals.ipynb\" target=\"_parent\"><img src=\"https://colab.research.google.com/assets/colab-badge.svg\" alt=\"Open In Colab\"/></a>"
      ]
    },
    {
      "cell_type": "markdown",
      "source": [
        "Given an array of intervals where intervals[i] = [start_i, end_i], merge all overlapping intervals, and return an array of the non-overlapping intervals that cover all the intervals in the input.\n",
        "\n",
        "**Example 1:**\n",
        "\n",
        "Input: intervals = [[1,3],[2,6],[8,10],[15,18]]\n",
        "Output: [[1,6],[8,10],[15,18]]\n",
        "Explanation: Since intervals [1,3] and [2,6] overlap, merge them into [1,6].\n",
        "\n",
        "**Example 2:**\n",
        "\n",
        "Input: intervals = [[1,4],[4,5]]\n",
        "Output: [[1,5]]\n",
        "Explanation: Intervals [1,4] and [4,5] are considered overlapping.\n",
        "\n",
        "**Constraints:**\n",
        "\n",
        "1 <= intervals.length <= 104\n",
        "intervals[i].length == 2\n",
        "0 <= starti <= endi <= 104"
      ],
      "metadata": {
        "id": "2r0dTheclBZJ"
      }
    },
    {
      "cell_type": "markdown",
      "source": [
        "# Merge Intervals Solution Explained\n",
        "\n",
        "This code solves the \"Merge Intervals\" problem, which requires combining overlapping intervals into a single continuous interval. Let me explain how it works in detail:\n",
        "\n",
        "## Problem Definition\n",
        "- **Input**: A list of intervals, where each interval is represented as `[start, end]`\n",
        "- **Output**: A new list of non-overlapping intervals where all overlapping intervals have been merged\n",
        "\n",
        "## Approach\n",
        "The solution follows a logical step-by-step process:\n",
        "\n",
        "1. **Sort by Start Time**: First, sort all intervals by their starting value\n",
        "2. **Process Linearly**: Go through each interval once, merging when necessary\n",
        "\n",
        "## Code Breakdown\n",
        "\n",
        "### Import and Class Declaration\n",
        "```python\n",
        "from typing import List\n",
        "\n",
        "class Solution:\n",
        "```\n",
        "- The `List` type hint is imported from the `typing` module to provide type annotations\n",
        "- A `Solution` class is defined, which is typical for LeetCode-style problems\n",
        "\n",
        "### The merge Method\n",
        "```python\n",
        "def merge(self, intervals: List[List[int]]) -> List[List[int]]:\n",
        "```\n",
        "- Takes a list of interval lists as input\n",
        "- Returns a list of merged interval lists\n",
        "- Type annotations clarify the expected input and output formats\n",
        "\n",
        "### Sorting the Intervals\n",
        "```python\n",
        "intervals.sort(key=lambda x: x[0])\n",
        "```\n",
        "- Sorts the intervals in-place based on their start values\n",
        "- The `lambda x: x[0]` function extracts the start value (first element) from each interval\n",
        "- This ensures intervals are processed in order of increasing start times\n",
        "\n",
        "### Initializing the Result\n",
        "```python\n",
        "merged = []\n",
        "```\n",
        "- Creates an empty list to store the merged intervals\n",
        "\n",
        "### Processing Each Interval\n",
        "```python\n",
        "for interval in intervals:\n",
        "```\n",
        "- Iterates through each interval in the sorted list\n",
        "\n",
        "### Handling Non-Overlapping Cases\n",
        "```python\n",
        "if not merged or merged[-1][1] < interval[0]:\n",
        "    merged.append(interval)\n",
        "```\n",
        "- Two conditions for appending without merging:\n",
        "  1. `not merged`: If the result list is empty (first interval)\n",
        "  2. `merged[-1][1] < interval[0]`: If the current interval starts after the previous interval ends\n",
        "- When either condition is true, simply add the interval to the result list\n",
        "\n",
        "### Handling Overlapping Cases\n",
        "```python\n",
        "else:\n",
        "    merged[-1][1] = max(merged[-1][1], interval[1])\n",
        "```\n",
        "- If there is overlap (current interval starts before or at the same point where the last interval ends)\n",
        "- Update the end value of the last merged interval to the maximum of:\n",
        "  - The current end value of the last merged interval\n",
        "  - The end value of the current interval\n",
        "\n",
        "### Returning the Result\n",
        "```python\n",
        "return merged\n",
        "```\n",
        "- Returns the final list of merged intervals\n",
        "\n",
        "## Example Walkthrough\n",
        "For intervals `[[1,3], [2,6], [8,10], [15,18]]`:\n",
        "\n",
        "1. Sort: Already sorted by start times\n",
        "2. Initialize `merged = []`\n",
        "3. Process `[1,3]`:\n",
        "   - `merged` is empty, so append: `merged = [[1,3]]`\n",
        "4. Process `[2,6]`:\n",
        "   - Last end (3) ≥ current start (2), so overlap exists\n",
        "   - Update last interval end: `max(3, 6) = 6`\n",
        "   - `merged = [[1,6]]`\n",
        "5. Process `[8,10]`:\n",
        "   - Last end (6) < current start (8), so no overlap\n",
        "   - Append: `merged = [[1,6], [8,10]]`\n",
        "6. Process `[15,18]`:\n",
        "   - Last end (10) < current start (15), so no overlap\n",
        "   - Append: `merged = [[1,6], [8,10], [15,18]]`\n",
        "7. Return `[[1,6], [8,10], [15,18]]`\n",
        "\n",
        "## Complexity Analysis\n",
        "- **Time Complexity**: O(n log n) - dominated by the sorting operation\n",
        "- **Space Complexity**: O(n) - for storing the merged intervals result\n",
        "\n",
        "This solution is elegant because it handles all the merging in a single pass through the sorted intervals, making it both efficient and easy to understand."
      ],
      "metadata": {
        "id": "DvQF9xMhmf1n"
      }
    },
    {
      "cell_type": "code",
      "source": [
        "from typing import List\n",
        "\n",
        "class Solution:\n",
        "    def merge(self, intervals: List[List[int]]) -> List[List[int]]:\n",
        "\n",
        "        intervals.sort(key=lambda x: x[0])\n",
        "\n",
        "        merged = []\n",
        "        for interval in intervals:\n",
        "            # if the list of merged intervals is empty or if the current\n",
        "            # interval does not overlap with the previous, simply append it.\n",
        "            if not merged or merged[-1][1] < interval[0]:\n",
        "                merged.append(interval)\n",
        "            else:\n",
        "                # otherwise, there is overlap, so we merge the current and previous\n",
        "                # intervals.\n",
        "                merged[-1][1] = max(merged[-1][1], interval[1])\n",
        "\n",
        "        return merged"
      ],
      "metadata": {
        "id": "I4FFten5lBk0"
      },
      "execution_count": 2,
      "outputs": []
    },
    {
      "cell_type": "code",
      "source": [
        "def test_merge_intervals():\n",
        "    solution = Solution()\n",
        "\n",
        "    # Test case 1: Standard overlapping intervals\n",
        "    assert solution.merge([[1,3],[2,6],[8,10],[15,18]]) == [[1,6],[8,10],[15,18]]\n",
        "\n",
        "    # Test case 2: No overlapping intervals\n",
        "    assert solution.merge([[1,2],[3,4],[5,6]]) == [[1,2],[3,4],[5,6]]\n",
        "\n",
        "    # Test case 3: All intervals overlap\n",
        "    assert solution.merge([[1,10],[2,9],[3,8],[4,7]]) == [[1,10]]\n",
        "\n",
        "    # Test case 4: Single interval\n",
        "    assert solution.merge([[1,5]]) == [[1,5]]\n",
        "\n",
        "    # Test case 5: Empty list\n",
        "    assert solution.merge([]) == []\n",
        "\n",
        "    # Test case 6: Completely contained intervals\n",
        "    assert solution.merge([[1,6],[2,5],[3,4]]) == [[1,6]]\n",
        "\n",
        "    # Test case 7: Adjacent intervals\n",
        "    assert solution.merge([[1,3],[3,6]]) == [[1,6]]\n",
        "\n",
        "    print(\"All test cases passed!\")\n",
        "\n",
        "test_merge_intervals()"
      ],
      "metadata": {
        "colab": {
          "base_uri": "https://localhost:8080/"
        },
        "id": "zEnbPDapm0h0",
        "outputId": "733d6553-dc83-4b50-bcc1-5b5636673701"
      },
      "execution_count": 3,
      "outputs": [
        {
          "output_type": "stream",
          "name": "stdout",
          "text": [
            "All test cases passed!\n"
          ]
        }
      ]
    }
  ]
}