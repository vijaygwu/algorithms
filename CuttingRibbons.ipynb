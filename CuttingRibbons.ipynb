{
  "nbformat": 4,
  "nbformat_minor": 0,
  "metadata": {
    "colab": {
      "provenance": [],
      "authorship_tag": "ABX9TyNDh6soJmywarIwl+MP/k4n",
      "include_colab_link": true
    },
    "kernelspec": {
      "name": "python3",
      "display_name": "Python 3"
    },
    "language_info": {
      "name": "python"
    }
  },
  "cells": [
    {
      "cell_type": "markdown",
      "metadata": {
        "id": "view-in-github",
        "colab_type": "text"
      },
      "source": [
        "<a href=\"https://colab.research.google.com/github/vijaygwu/algorithms/blob/main/CuttingRibbons.ipynb\" target=\"_parent\"><img src=\"https://colab.research.google.com/assets/colab-badge.svg\" alt=\"Open In Colab\"/></a>"
      ]
    },
    {
      "cell_type": "markdown",
      "source": [
        "**1891. Cutting Ribbons**\n",
        "\n",
        "You are given an integer array ribbons, where ribbons[i] represents the length of the ith ribbon, and an integer k. You may cut any of the ribbons into any number of segments of positive integer lengths, or perform no cuts at all.\n",
        "\n",
        "For example, if you have a ribbon of length 4, you can:\n",
        "Keep the ribbon of length 4,\n",
        "Cut it into one ribbon of length 3 and one ribbon of length 1,\n",
        "Cut it into two ribbons of length 2,\n",
        "Cut it into one ribbon of length 2 and two ribbons of length 1, or\n",
        "Cut it into four ribbons of length 1.\n",
        "Your task is to determine the maximum length of ribbon, x, that allows you to cut at least k ribbons, each of length x. You can discard any leftover ribbon from the cuts. If it is impossible to cut k ribbons of the same length, return 0."
      ],
      "metadata": {
        "id": "UOij34te9JxC"
      }
    },
    {
      "cell_type": "markdown",
      "source": [
        "**Example 1:**\n",
        "\n",
        "Input: ribbons = [9,7,5], k = 3\n",
        "Output: 5\n",
        "Explanation:\n",
        "- Cut the first ribbon to two ribbons, one of length 5 and one of length 4.\n",
        "- Cut the second ribbon to two ribbons, one of length 5 and one of length 2.\n",
        "- Keep the third ribbon as it is.\n",
        "Now you have 3 ribbons of length 5.\n",
        "\n",
        "**Example 2:**\n",
        "\n",
        "Input: ribbons = [7,5,9], k = 4\n",
        "Output: 4\n",
        "Explanation:\n",
        "- Cut the first ribbon to two ribbons, one of length 4 and one of length 3.\n",
        "- Cut the second ribbon to two ribbons, one of length 4 and one of length 1.\n",
        "- Cut the third ribbon to three ribbons, two of length 4 and one of length 1.\n",
        "Now you have 4 ribbons of length 4.\n",
        "\n",
        "**Example 3:**\n",
        "\n",
        "Input: ribbons = [5,7,9], k = 22\n",
        "Output: 0\n",
        "Explanation: You cannot obtain k ribbons of the same positive integer length.\n",
        "\n",
        "\n",
        "**Constraints:**\n",
        "\n",
        "- 1 <= ribbons.length <= 105\n",
        "- 1 <= ribbons[i] <= 105\n",
        "- 1 <= k <= 109"
      ],
      "metadata": {
        "id": "fwWo3COn9ZJZ"
      }
    },
    {
      "cell_type": "markdown",
      "source": [
        "This Python class implements a solution to find the maximum possible length of ribbons that can be cut to produce at least k pieces. Let me break it down:\n",
        "\n",
        "```python\n",
        "class Solution:\n",
        "    def maxLength(self, ribbons: list[int], k: int) -> int:\n",
        "```\n",
        "This is the main function that takes a list of ribbon lengths and a target number of pieces k.\n",
        "\n",
        "```python\n",
        "        # Binary search bounds\n",
        "        left = 0\n",
        "        right = max(ribbons)\n",
        "```\n",
        "The solution uses binary search to find the optimal length. The search range starts from 0 to the maximum ribbon length.\n",
        "\n",
        "```python\n",
        "        # Perform binary search on the ribbon lenght\n",
        "        while left < right:\n",
        "            middle = (left + right + 1) // 2\n",
        "            if self._is_possible(middle, ribbons, k):\n",
        "                left = middle\n",
        "            else:\n",
        "                right = middle - 1\n",
        "        return left\n",
        "```\n",
        "This is the binary search implementation:\n",
        "1. Calculate the middle point (note the +1 to handle cases where left and right are consecutive numbers)\n",
        "2. Check if it's possible to cut ribbons into at least k pieces of length \"middle\"\n",
        "3. If possible, search in upper half; otherwise, search in lower half\n",
        "4. Return left when search terminates\n",
        "\n",
        "```python\n",
        "    def _is_possible(self, x: int, ribbons: list[int], k: int) -> bool:\n",
        "        total_ribbons = 0\n",
        "        for ribbon in ribbons:\n",
        "            total_ribbons += ribbon // x\n",
        "            if total_ribbons >= k:\n",
        "                return True   \n",
        "        return False\n",
        "```\n",
        "This helper method checks if it's possible to get at least k pieces of length x:\n",
        "1. For each ribbon, calculate how many pieces of length x can be cut (using integer division)\n",
        "2. Add these counts to a running total\n",
        "3. If we reach or exceed k pieces at any point, return True\n",
        "4. Otherwise, return False after checking all ribbons\n",
        "\n",
        "The algorithm is efficient with O(n log m) time complexity, where n is the number of ribbons and m is the maximum ribbon length.\n"
      ],
      "metadata": {
        "id": "6txFWpCBAY41"
      }
    },
    {
      "cell_type": "code",
      "source": [
        "class Solution:\n",
        "    def maxLength(self, ribbons: list[int], k: int) -> int:\n",
        "        # Binary search bounds\n",
        "        left = 0\n",
        "        right = max(ribbons)\n",
        "\n",
        "        # Perform binary search on the ribbon lenght\n",
        "        while left < right:\n",
        "            middle = (left + right +1) // 2\n",
        "            if self._is_possible(middle, ribbons, k):\n",
        "                left = middle\n",
        "            else:\n",
        "                right = middle - 1\n",
        "        return left\n",
        "\n",
        "    def _is_possible(self, x: int, ribbons: list[int], k: int) -> bool:\n",
        "        total_ribbons = 0\n",
        "        for ribbon in ribbons:\n",
        "            total_ribbons += ribbon // x\n",
        "            if total_ribbons >= k:\n",
        "                return True\n",
        "        return False"
      ],
      "metadata": {
        "id": "PRuLDPq_9Kl6"
      },
      "execution_count": null,
      "outputs": []
    },
    {
      "cell_type": "code",
      "source": [
        "def test_solution():\n",
        "    sol = Solution()\n",
        "\n",
        "    # Test case 1: Basic example\n",
        "    ribbons = [9, 7, 5]\n",
        "    k = 3\n",
        "    assert sol.maxLength(ribbons, k) == 5, f\"Expected 5, got {sol.maxLength(ribbons, k)}\"\n",
        "\n",
        "    # Test case 2: Another example\n",
        "    ribbons = [7, 5, 9]\n",
        "    k = 4\n",
        "    assert sol.maxLength(ribbons, k) == 4, f\"Expected 4, got {sol.maxLength(ribbons, k)}\"\n",
        "\n",
        "    # Test case 3: Edge case - not enough ribbons\n",
        "    ribbons = [5, 7, 9]\n",
        "    k = 22\n",
        "    assert sol.maxLength(ribbons, k) == 0, f\"Expected 0, got {sol.maxLength(ribbons, k)}\"\n",
        "\n",
        "    # Test case 4: All same length\n",
        "    ribbons = [5, 5, 5]\n",
        "    k = 5\n",
        "    assert sol.maxLength(ribbons, k) == 2, f\"Expected 2, got {sol.maxLength(ribbons, k)}\"\n",
        "\n",
        "    print(\"All tests passed!\")\n",
        "\n",
        "# Run the tests\n",
        "test_solution()"
      ],
      "metadata": {
        "colab": {
          "base_uri": "https://localhost:8080/"
        },
        "id": "h8O5wak8Axeo",
        "outputId": "31ad1eee-1928-40ee-c5d2-40e047c52796"
      },
      "execution_count": null,
      "outputs": [
        {
          "output_type": "stream",
          "name": "stdout",
          "text": [
            "All tests passed!\n"
          ]
        }
      ]
    }
  ]
}