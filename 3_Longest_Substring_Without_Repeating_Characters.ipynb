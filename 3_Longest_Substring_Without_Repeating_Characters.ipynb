{
  "nbformat": 4,
  "nbformat_minor": 0,
  "metadata": {
    "colab": {
      "provenance": [],
      "authorship_tag": "ABX9TyPRSXKOVnMxvPBrocGt9lcN",
      "include_colab_link": true
    },
    "kernelspec": {
      "name": "python3",
      "display_name": "Python 3"
    },
    "language_info": {
      "name": "python"
    }
  },
  "cells": [
    {
      "cell_type": "markdown",
      "metadata": {
        "id": "view-in-github",
        "colab_type": "text"
      },
      "source": [
        "<a href=\"https://colab.research.google.com/github/vijaygwu/algorithms/blob/main/3_Longest_Substring_Without_Repeating_Characters.ipynb\" target=\"_parent\"><img src=\"https://colab.research.google.com/assets/colab-badge.svg\" alt=\"Open In Colab\"/></a>"
      ]
    },
    {
      "cell_type": "markdown",
      "source": [
        "Given a string s, find the length of the longest substring without duplicate characters.\n",
        "\n",
        "**Example 1:**\n",
        "\n",
        "Input: s = \"abcabcbb\"\n",
        "Output: 3\n",
        "Explanation: The answer is \"abc\", with the length of 3.\n",
        "\n",
        "**Example 2:**\n",
        "\n",
        "Input: s = \"bbbbb\"\n",
        "Output: 1\n",
        "Explanation: The answer is \"b\", with the length of 1.\n",
        "\n",
        "**Example 3:**\n",
        "\n",
        "Input: s = \"pwwkew\"\n",
        "Output: 3\n",
        "Explanation: The answer is \"wke\", with the length of 3.\n",
        "Notice that the answer must be a substring, \"pwke\" is a subsequence and not a substring.\n",
        "\n",
        "\n",
        "Constraints: **bold text**\n",
        "\n",
        "0 <= s.length <= 5 * 104\n",
        "s consists of English letters, digits, symbols and spaces."
      ],
      "metadata": {
        "id": "dqTm2i0MJLi7"
      }
    },
    {
      "cell_type": "markdown",
      "source": [
        "The algorithm in detail:\n",
        "\n",
        "```python\n",
        "class Solution:\n",
        "    def lengthOfLongestSubstring(self, s: str) -> int:\n",
        "        charSet = set()\n",
        "        l = 0\n",
        "        res = 0\n",
        "\n",
        "        for r in range(len(s)):\n",
        "            while s[r] in charSet:\n",
        "                charSet.remove(s[l])\n",
        "                l += 1\n",
        "            charSet.add(s[r])\n",
        "            res = max(res, r - l + 1)\n",
        "        return res\n",
        "```\n",
        "\n",
        "This code solves the \"Longest Substring Without Repeating Characters\" problem using a sliding window approach. Here's a detailed breakdown:\n",
        "\n",
        "1. **Initialization**:\n",
        "   - `charSet`: A set to track characters in the current substring window\n",
        "   - `l`: Left pointer of the window (starting at index 0)\n",
        "   - `res`: Tracks the maximum length of a substring without repeats (result)\n",
        "\n",
        "2. **Algorithm Flow**:\n",
        "   - We iterate through the string using `r` as our right pointer\n",
        "   - For each new character at position `r`:\n",
        "     - If this character already exists in our `charSet` (meaning we have a duplicate):\n",
        "       - We shrink the window from the left by removing `s[l]` from the set\n",
        "       - We increment `l` (moving the left boundary of our window)\n",
        "       - We continue this process until the duplicate is removed\n",
        "     - Once we have no duplicates, we add the current character to the set\n",
        "     - We update our result `res` with the maximum of its current value and the current window size (`r - l + 1`)\n",
        "\n",
        "3. **Window Management**:\n",
        "   - The window `s[l:r+1]` always represents a substring with no repeating characters\n",
        "   - When we encounter a duplicate, we slide the left edge forward until the duplicate is gone\n",
        "   - The `while` loop ensures we maintain the \"no repeating characters\" property\n",
        "\n",
        "4. **Time and Space Complexity**:\n",
        "   - Time Complexity: O(n) where n is the length of the string\n",
        "   - Space Complexity: O(k) where k is the size of the character set (at most 26 for lowercase English letters)\n",
        "\n",
        "This is a classic example of the sliding window technique, which is highly efficient for substring problems as it avoids recomputing overlapping subproblems that would occur with a brute force approach."
      ],
      "metadata": {
        "id": "p61HY-uUJWlG"
      }
    },
    {
      "cell_type": "code",
      "source": [
        "class Solution:\n",
        "    def lengthOfLongestSubstring(self, s: str) -> int:\n",
        "        charSet = set()\n",
        "        l = 0\n",
        "        res = 0\n",
        "\n",
        "        for r in range(len(s)):\n",
        "            while s[r] in charSet:\n",
        "                charSet.remove(s[l])\n",
        "                l += 1\n",
        "            charSet.add(s[r])\n",
        "            res = max(res, r - l + 1)\n",
        "        return res"
      ],
      "metadata": {
        "id": "_m0E98cfJf6i"
      },
      "execution_count": 1,
      "outputs": []
    },
    {
      "cell_type": "code",
      "source": [
        "# Manual test function\n",
        "def test_algorithm():\n",
        "    solution = Solution()\n",
        "\n",
        "    # Test cases with expected results\n",
        "    test_cases = [\n",
        "        (\"abcabcbb\", 3),  # The answer is \"abc\", with length 3\n",
        "        (\"bbbbb\", 1),     # The answer is \"b\", with length 1\n",
        "        (\"pwwkew\", 3),    # The answer is \"wke\", with length 3\n",
        "        (\"\", 0),          # Empty string\n",
        "        (\" \", 1),         # Single space\n",
        "        (\"au\", 2),        # Two different characters\n",
        "        (\"aab\", 2),       # Repeating character at beginning\n",
        "        (\"dvdf\", 3),      # Non-continuous substring\n",
        "        (\"anviaj\", 5)     # More complex example\n",
        "    ]\n",
        "\n",
        "    # Run each test case and print results\n",
        "    for i, (input_str, expected) in enumerate(test_cases):\n",
        "        result = solution.lengthOfLongestSubstring(input_str)\n",
        "        status = \"PASS\" if result == expected else \"FAIL\"\n",
        "        print(f\"Test {i+1}: '{input_str}' -> Got: {result}, Expected: {expected} - {status}\")\n",
        "\n",
        "        # Print detailed tracing for failures (optional)\n",
        "        if result != expected:\n",
        "            print(f\"  Detailed trace for '{input_str}':\")\n",
        "            trace_execution(input_str)\n",
        "            print()\n",
        "\n",
        "# Optional: Function to trace the algorithm's execution step by step\n",
        "def trace_execution(s):\n",
        "    char_set = set()\n",
        "    l = 0\n",
        "    res = 0\n",
        "\n",
        "    print(\"  Step | Right ptr | Left ptr | Set contents | Current max\")\n",
        "    print(\"  -----|-----------|----------|--------------|------------\")\n",
        "\n",
        "    for r in range(len(s)):\n",
        "        # Handle duplicates\n",
        "        while r < len(s) and s[r] in char_set:\n",
        "            print(f\"  {r:4d} | {r:9d} | {l:8d} | {char_set} | {res:10d} -> Duplicate '{s[r]}' found\")\n",
        "            char_set.remove(s[l])\n",
        "            l += 1\n",
        "            print(f\"       |           | {l:8d} | {char_set} | {res:10d} -> Window shrinks\")\n",
        "\n",
        "        # Add current character\n",
        "        char_set.add(s[r])\n",
        "        new_res = max(res, r - l + 1)\n",
        "        status = \"Updated\" if new_res > res else \"Unchanged\"\n",
        "        res = new_res\n",
        "        print(f\"  {r:4d} | {r:9d} | {l:8d} | {char_set} | {res:10d} -> {status}\")\n",
        "\n",
        "    print(f\"  Final result: {res}\")\n",
        "\n",
        "# Run the tests\n",
        "test_algorithm()"
      ],
      "metadata": {
        "id": "K3xXCPMjKIUJ",
        "outputId": "9f23c4f4-3735-47a6-9e09-ac505b0a1001",
        "colab": {
          "base_uri": "https://localhost:8080/"
        }
      },
      "execution_count": 2,
      "outputs": [
        {
          "output_type": "stream",
          "name": "stdout",
          "text": [
            "Test 1: 'abcabcbb' -> Got: 3, Expected: 3 - PASS\n",
            "Test 2: 'bbbbb' -> Got: 1, Expected: 1 - PASS\n",
            "Test 3: 'pwwkew' -> Got: 3, Expected: 3 - PASS\n",
            "Test 4: '' -> Got: 0, Expected: 0 - PASS\n",
            "Test 5: ' ' -> Got: 1, Expected: 1 - PASS\n",
            "Test 6: 'au' -> Got: 2, Expected: 2 - PASS\n",
            "Test 7: 'aab' -> Got: 2, Expected: 2 - PASS\n",
            "Test 8: 'dvdf' -> Got: 3, Expected: 3 - PASS\n",
            "Test 9: 'anviaj' -> Got: 5, Expected: 5 - PASS\n"
          ]
        }
      ]
    }
  ]
}