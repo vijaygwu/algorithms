{
  "nbformat": 4,
  "nbformat_minor": 0,
  "metadata": {
    "colab": {
      "provenance": [],
      "authorship_tag": "ABX9TyPcjoufJ3XtOiCrbPNrAs2g",
      "include_colab_link": true
    },
    "kernelspec": {
      "name": "python3",
      "display_name": "Python 3"
    },
    "language_info": {
      "name": "python"
    }
  },
  "cells": [
    {
      "cell_type": "markdown",
      "metadata": {
        "id": "view-in-github",
        "colab_type": "text"
      },
      "source": [
        "<a href=\"https://colab.research.google.com/github/vijaygwu/algorithms/blob/main/249_Group_Shifted_Strings.ipynb\" target=\"_parent\"><img src=\"https://colab.research.google.com/assets/colab-badge.svg\" alt=\"Open In Colab\"/></a>"
      ]
    },
    {
      "cell_type": "markdown",
      "source": [
        "Perform the following shift operations on a string:\n",
        "\n",
        "Right shift: Replace every letter with the successive letter of the English alphabet, where 'z' is replaced by 'a'. For example, \"abc\" can be right-shifted to \"bcd\" or \"xyz\" can be right-shifted to \"yza\".\n",
        "Left shift: Replace every letter with the preceding letter of the English alphabet, where 'a' is replaced by 'z'. For example, \"bcd\" can be left-shifted to \"abc\" or \"yza\" can be left-shifted to \"xyz\".\n",
        "We can keep shifting the string in both directions to form an endless shifting sequence.\n",
        "\n",
        "For example, shift \"abc\" to form the sequence: ... <-> \"abc\" <-> \"bcd\" <-> ... <-> \"xyz\" <-> \"yza\" <-> .... <-> \"zab\" <-> \"abc\" <-> ...\n",
        "You are given an array of strings strings, group together all strings[i] that belong to the same shifting sequence. You may return the answer in any order.\n",
        "\n",
        " **Example 1:**\n",
        "\n",
        "Input: strings = [\"abc\",\"bcd\",\"acef\",\"xyz\",\"az\",\"ba\",\"a\",\"z\"]\n",
        "\n",
        "Output: [[\"acef\"],[\"a\",\"z\"],[\"abc\",\"bcd\",\"xyz\"],[\"az\",\"ba\"]]\n",
        "\n",
        "**Example 2:**\n",
        "\n",
        "Input: strings = [\"a\"]\n",
        "\n",
        "Output: [[\"a\"]]\n",
        "\n",
        "**Constraints:**\n",
        "\n",
        "1 <= strings.length <= 200\n",
        "1 <= strings[i].length <= 50\n",
        "strings[i] consists of lowercase English letters."
      ],
      "metadata": {
        "id": "kETeFGHgphwv"
      }
    },
    {
      "cell_type": "markdown",
      "source": [
        "This solution solves the problem of grouping strings that follow the same pattern. Two strings have the same pattern if one can be transformed into the other by shifting all characters by the same amount.\n",
        "\n",
        "Let's break down the code:\n",
        "\n",
        "1. **Class Definition**:\n",
        "   ```python\n",
        "   class Solution:\n",
        "   ```\n",
        "   This defines a class named `Solution`, which is a common pattern in competitive programming platforms like LeetCode.\n",
        "\n",
        "2. **Main Method**:\n",
        "   ```python\n",
        "   def groupStrings(self, strings: List[str]) -> List[List[str]]:\n",
        "   ```\n",
        "   This method takes a list of strings as input and returns a list of lists, where each inner list contains strings that follow the same pattern.\n",
        "\n",
        "3. **Helper Function**:\n",
        "   ```python\n",
        "   def get_hash(string: str):\n",
        "   ```\n",
        "   This nested function creates a \"hash\" or unique identifier for each string pattern.\n",
        "\n",
        "4. **Hash Generation Logic**:\n",
        "   ```python\n",
        "   key = []\n",
        "   for a, b in zip(string, string[1:]):\n",
        "       key.append(chr((ord(b) - ord(a)) % 26 + ord('a')))\n",
        "   return ''.join(key)\n",
        "   ```\n",
        "   This is the clever part:\n",
        "   - `zip(string, string[1:])` pairs each character with the next character in the string\n",
        "   - For each pair, it calculates the difference between their ASCII values using `ord(b) - ord(a)`\n",
        "   - The result is taken modulo 26 (for circular shift in the alphabet)\n",
        "   - Then it converts back to a character by adding `ord('a')` and using `chr()`\n",
        "   - This creates a representation of the \"shifts\" between consecutive characters\n",
        "   - For example, \"abc\" and \"bcd\" would both hash to the same value because each consecutive character differs by 1\n",
        "\n",
        "5. **Grouping Logic**:\n",
        "   ```python\n",
        "   groups = collections.defaultdict(list)\n",
        "   for string in strings:\n",
        "       hash_key = get_hash(string)\n",
        "       groups[hash_key].append(string)\n",
        "   ```\n",
        "   - Creates a dictionary with default value of empty list using `defaultdict`\n",
        "   - For each string, calculates its hash key\n",
        "   - Appends the string to the list associated with that hash key\n",
        "\n",
        "6. **Result Formatting**:\n",
        "   ```python\n",
        "   return list(groups.values())\n",
        "   ```\n",
        "   - Returns just the grouped strings (the values from the dictionary)\n",
        "   - Each group contains strings that follow the same pattern\n",
        "\n",
        "The time complexity is O(n * k), where n is the number of strings and k is the maximum length of any string. The space complexity is also O(n * k) to store the grouped strings.\n",
        "\n"
      ],
      "metadata": {
        "id": "QZ8EAu6ppyGe"
      }
    },
    {
      "cell_type": "code",
      "source": [
        "from typing import List\n",
        "import collections\n",
        "\n",
        "class Solution:\n",
        "    def groupStrings(self, strings: List[str]) -> List[List[str]]:\n",
        "\n",
        "        # Create a hash value\n",
        "        def get_hash(string: str):\n",
        "            key = []\n",
        "            for a, b in zip(string, string[1:]):\n",
        "                key.append(chr((ord(b) - ord(a)) % 26 + ord('a')))\n",
        "            return ''.join(key)\n",
        "\n",
        "        # Create a hash value (hash_key) for each string and append the string\n",
        "        # to the list of hash values i.e. mapHashToList[\"cd\"] = [\"acf\", \"gil\", \"xzc\"]\n",
        "        groups = collections.defaultdict(list)\n",
        "        for string in strings:\n",
        "            hash_key = get_hash(string)\n",
        "            groups[hash_key].append(string)\n",
        "\n",
        "        # Return a list of all of the grouped strings\n",
        "        return list(groups.values())"
      ],
      "metadata": {
        "id": "sYCXlgBGpyRS"
      },
      "execution_count": 5,
      "outputs": []
    },
    {
      "cell_type": "code",
      "source": [
        "import collections\n",
        "\n",
        "def test_group_strings():\n",
        "    solution = Solution()\n",
        "\n",
        "    # Test case 1: Basic test with shift patterns\n",
        "    test1 = [\"abc\", \"bcd\", \"acef\", \"xyz\", \"az\", \"ba\", \"a\", \"z\"]\n",
        "    result1 = solution.groupStrings(test1)\n",
        "    print(\"Test 1 Result:\", result1)\n",
        "    # Expected: [[\"abc\", \"bcd\", \"xyz\"], [\"acef\"], [\"az\", \"ba\"], [\"a\", \"z\"]]\n",
        "\n",
        "    # Test case 2: Single letter strings\n",
        "    test2 = [\"a\", \"b\", \"c\"]\n",
        "    result2 = solution.groupStrings(test2)\n",
        "    print(\"Test 2 Result:\", result2)\n",
        "    # Expected: [[\"a\", \"b\", \"c\"]]\n",
        "\n",
        "    # Test case 3: Empty string\n",
        "    test3 = [\"\"]\n",
        "    result3 = solution.groupStrings(test3)\n",
        "    print(\"Test 3 Result:\", result3)\n",
        "    # Expected: [[\"\"]]\n",
        "\n",
        "    # Test case 4: Strings with circular shifts\n",
        "    test4 = [\"za\", \"ab\"]\n",
        "    result4 = solution.groupStrings(test4)\n",
        "    print(\"Test 4 Result:\", result4)\n",
        "    # Expected: [[\"za\", \"ab\"]]\n",
        "\n",
        "\n",
        "# Run the tests\n",
        "test_group_strings()"
      ],
      "metadata": {
        "colab": {
          "base_uri": "https://localhost:8080/"
        },
        "id": "jiqyanrCqYma",
        "outputId": "c1360564-16d1-4596-a824-718e4ad31700"
      },
      "execution_count": 7,
      "outputs": [
        {
          "output_type": "stream",
          "name": "stdout",
          "text": [
            "Test 1 Result: [['abc', 'bcd', 'xyz'], ['acef'], ['az', 'ba'], ['a', 'z']]\n",
            "Test 2 Result: [['a', 'b', 'c']]\n",
            "Test 3 Result: [['']]\n",
            "Test 4 Result: [['za', 'ab']]\n"
          ]
        }
      ]
    }
  ]
}