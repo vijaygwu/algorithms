{
  "nbformat": 4,
  "nbformat_minor": 0,
  "metadata": {
    "colab": {
      "provenance": [],
      "authorship_tag": "ABX9TyOnY6kPgyCyBHWDgyDc2ZpZ",
      "include_colab_link": true
    },
    "kernelspec": {
      "name": "python3",
      "display_name": "Python 3"
    },
    "language_info": {
      "name": "python"
    }
  },
  "cells": [
    {
      "cell_type": "markdown",
      "metadata": {
        "id": "view-in-github",
        "colab_type": "text"
      },
      "source": [
        "<a href=\"https://colab.research.google.com/github/vijaygwu/algorithms/blob/main/31_Next_Permutation.ipynb\" target=\"_parent\"><img src=\"https://colab.research.google.com/assets/colab-badge.svg\" alt=\"Open In Colab\"/></a>"
      ]
    },
    {
      "cell_type": "markdown",
      "source": [
        "A permutation of an array of integers is an arrangement of its members into a sequence or linear order.\n",
        "\n",
        "For example, for arr = [1,2,3], the following are all the permutations of arr: [1,2,3], [1,3,2], [2, 1, 3], [2, 3, 1], [3,1,2], [3,2,1].\n",
        "The next permutation of an array of integers is the next lexicographically greater permutation of its integer. More formally, if all the permutations of the array are sorted in one container according to their lexicographical order, then the next permutation of that array is the permutation that follows it in the sorted container. If such arrangement is not possible, the array must be rearranged as the lowest possible order (i.e., sorted in ascending order).\n",
        "\n",
        "For example, the next permutation of arr = [1,2,3] is [1,3,2].\n",
        "Similarly, the next permutation of arr = [2,3,1] is [3,1,2].\n",
        "While the next permutation of arr = [3,2,1] is [1,2,3] because [3,2,1] does not have a lexicographical larger rearrangement.\n",
        "Given an array of integers nums, find the next permutation of nums.\n",
        "\n",
        "The replacement must be in place and use only constant extra memory.\n",
        "\n",
        "**Example 1:**\n",
        "\n",
        "Input: nums = [1,2,3]\n",
        "Output: [1,3,2]\n",
        "\n",
        "**Example 2:**\n",
        "\n",
        "Input: nums = [3,2,1]\n",
        "Output: [1,2,3]\n",
        "\n",
        "**Example 3:**\n",
        "\n",
        "Input: nums = [1,1,5]\n",
        "Output: [1,5,1]\n",
        "\n",
        "\n",
        "**Constraints:**\n",
        "\n",
        "1 <= nums.length <= 100\n",
        "0 <= nums[i] <= 100"
      ],
      "metadata": {
        "id": "sSEJ8YE1JZ3R"
      }
    },
    {
      "cell_type": "markdown",
      "source": [
        "\n",
        "\n",
        "---\n",
        "\n",
        "## Big‑picture goal  \n",
        "“Next permutation” means “mutate this list so it becomes the very next arrangement in **lexicographic (dictionary) order**.”  \n",
        "* If the list is already *highest* (e.g. `[3, 2, 1]`) we roll it back to the *lowest* (sorted ascending).  \n",
        "* We must do all of this **in‑place**—no extra arrays—because some interviewers love that constraint.\n",
        "\n",
        "---\n",
        "\n",
        "## Step‑by‑step walk‑through\n",
        "\n",
        "```python\n",
        "i = len(nums) - 2\n",
        "while i >= 0 and nums[i + 1] <= nums[i]:\n",
        "    i -= 1\n",
        "```\n",
        "\n",
        "1. **Find the “pivot.”**  \n",
        "   Start one slot from the right and move left until you locate the first `nums[i]` that is **smaller** than its neighbor to the right.  \n",
        "   *Why?* Everything to the right of that pivot is already in **non‑increasing** order; that suffix is the biggest you can build with those digits, so the first opportunity to make something “next” comes just left of it.\n",
        "\n",
        "---\n",
        "\n",
        "```python\n",
        "if i >= 0:\n",
        "    j = len(nums) - 1\n",
        "    while nums[j] <= nums[i]:\n",
        "        j -= 1\n",
        "    self.swap(nums, i, j)\n",
        "```\n",
        "\n",
        "2. **If a pivot exists, swap it with the smallest larger digit to its right.**  \n",
        "   Because the suffix is descending, the first value you meet when scanning **from the right** that’s greater than `nums[i]` is the **minimal bump** you can make. Swapping there creates the next‑bigger prefix without overshooting.\n",
        "\n",
        "---\n",
        "\n",
        "```python\n",
        "self.reverse(nums, i + 1)\n",
        "```\n",
        "\n",
        "3. **Reverse (i.e., sort ascending) the suffix.**  \n",
        "   After the swap, the tail is still in descending order—flipping it makes it the **lowest possible** arrangement, which guarantees we get the immediate next permutation rather than something later.\n",
        "\n",
        "---\n",
        "\n",
        "## Helper methods\n",
        "\n",
        "```python\n",
        "def swap(self, nums, i, j):\n",
        "    nums[i], nums[j] = nums[j], nums[i]\n",
        "```\n",
        "Plain vanilla element swap.\n",
        "\n",
        "```python\n",
        "def reverse(self, nums, start):\n",
        "    i, j = start, len(nums) - 1\n",
        "    while i < j:\n",
        "        self.swap(nums, i, j)\n",
        "        i += 1\n",
        "        j -= 1\n",
        "```\n",
        "In‑place reversal of `nums[start:]`. Two‑pointer style keeps space O(1).\n",
        "\n",
        "---\n",
        "\n",
        "## Worked example (quick mental trace)\n",
        "\n",
        "`nums = [1, 3, 5, 4, 2]`\n",
        "\n",
        "1. **Pivot search**:  \n",
        "   ‑ Compare `4 > 2` → true (descending)  \n",
        "   ‑ Compare `5 > 4` → true (descending)  \n",
        "   ‑ Compare `3 < 5` → false ⇒ pivot at index 1 (`nums[i] = 3`).\n",
        "\n",
        "2. **Find successor & swap**:  \n",
        "   Scan from right: first element > 3 is `4` (index 3). Swap → `[1, 4, 5, 3, 2]`.\n",
        "\n",
        "3. **Reverse suffix from i+1 (index 2)**:  \n",
        "   `[5, 3, 2]` → `[2, 3, 5]`.  \n",
        "   Final result: `[1, 4, 2, 3, 5]`.\n",
        "\n",
        "Indeed that’s the lexicographically next list.\n",
        "\n",
        "---\n",
        "\n",
        "## Edge cases\n",
        "\n",
        "| Input               | Reasoning & result        |\n",
        "|---------------------|---------------------------|\n",
        "| `[3, 2, 1]`         | No pivot found → reverse whole list → `[1, 2, 3]` |\n",
        "| `[1, 1, 5]`         | Pivot at first `1`, swap with `5`, reverse suffix → `[1, 5, 1]` |\n",
        "| Single element list | Loop never enters, stays the same |\n",
        "\n",
        "---\n",
        "\n",
        "## Complexity cheat‑sheet\n",
        "* **Time:** O(n)  (one full scan, maybe another partial scan, plus reversal)  \n",
        "* **Space:** O(1)  (all work done in‑place)\n",
        "\n",
        "---\n",
        "\n",
        "### Quick sanity test\n",
        "\n",
        "```python\n",
        "nums = [1, 2, 3]\n",
        "Solution().nextPermutation(nums)\n",
        "print(nums)   # ➜ [1, 3, 2]\n",
        "```"
      ],
      "metadata": {
        "id": "nCDIsms1KFPT"
      }
    },
    {
      "cell_type": "code",
      "source": [
        "class Solution:\n",
        "    def nextPermutation(self, nums):\n",
        "        \"\"\"\n",
        "        :type nums: List[int]\n",
        "        :rtype: void Do not return anything, modify nums in-place instead.\n",
        "        \"\"\"\n",
        "        i = len(nums) - 2\n",
        "        while i >= 0 and nums[i + 1] <= nums[i]:\n",
        "            i -= 1\n",
        "        if i >= 0:\n",
        "            j = len(nums) - 1\n",
        "            while nums[j] <= nums[i]:\n",
        "                j -= 1\n",
        "            self.swap(nums, i, j)\n",
        "        self.reverse(nums, i + 1)\n",
        "\n",
        "    def reverse(self, nums, start):\n",
        "        i, j = start, len(nums) - 1\n",
        "        while i < j:\n",
        "            self.swap(nums, i, j)\n",
        "            i += 1\n",
        "            j -= 1\n",
        "\n",
        "    def swap(self, nums, i, j):\n",
        "        temp = nums[i]\n",
        "        nums[i] = nums[j]\n",
        "        nums[j] = temp"
      ],
      "metadata": {
        "id": "jOThrMC9Jq0p"
      },
      "execution_count": 6,
      "outputs": []
    },
    {
      "cell_type": "code",
      "source": [
        "nums = [1, 2, 3]\n",
        "Solution().nextPermutation(nums)\n",
        "print(nums)   # ➜ [1, 3, 2]"
      ],
      "metadata": {
        "colab": {
          "base_uri": "https://localhost:8080/"
        },
        "id": "vT0354fFKO8y",
        "outputId": "82d9e6b1-c96c-47a3-fd38-68cb8a260c59"
      },
      "execution_count": 12,
      "outputs": [
        {
          "output_type": "stream",
          "name": "stdout",
          "text": [
            "[1, 3, 2]\n"
          ]
        }
      ]
    }
  ]
}