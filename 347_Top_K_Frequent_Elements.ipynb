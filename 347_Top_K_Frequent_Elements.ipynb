{
  "nbformat": 4,
  "nbformat_minor": 0,
  "metadata": {
    "colab": {
      "provenance": [],
      "authorship_tag": "ABX9TyPSOPoybVV9SIM5VVaYN//D",
      "include_colab_link": true
    },
    "kernelspec": {
      "name": "python3",
      "display_name": "Python 3"
    },
    "language_info": {
      "name": "python"
    }
  },
  "cells": [
    {
      "cell_type": "markdown",
      "metadata": {
        "id": "view-in-github",
        "colab_type": "text"
      },
      "source": [
        "<a href=\"https://colab.research.google.com/github/vijaygwu/algorithms/blob/main/347_Top_K_Frequent_Elements.ipynb\" target=\"_parent\"><img src=\"https://colab.research.google.com/assets/colab-badge.svg\" alt=\"Open In Colab\"/></a>"
      ]
    },
    {
      "cell_type": "markdown",
      "source": [
        "**Given an integer array nums and an integer k, return the k most frequent elements. You may return the answer in any order.**\n",
        "\n",
        "**Example 1:**\n",
        "\n",
        "Input: nums = [1,1,1,2,2,3], k = 2\n",
        "Output: [1,2]\n",
        "\n",
        "**Example 2:**\n",
        "\n",
        "Input: nums = [1], k = 1\n",
        "Output: [1]\n",
        "\n",
        "**Constraints:**\n",
        "\n",
        "1 <= nums.length <= 105\n",
        "-104 <= nums[i] <= 104\n",
        "k is in the range [1, the number of unique elements in the array].\n",
        "It is guaranteed that the answer is unique.\n",
        "\n",
        "\n",
        "Follow up: Your algorithm's time complexity must be better than O(n log n), where n is the array's size."
      ],
      "metadata": {
        "id": "DjzIYFnpX4i0"
      }
    },
    {
      "cell_type": "markdown",
      "source": [
        "This is a solution to the \"Top K Frequent Elements\" problem, which asks you to find the k most frequent elements in an array.\n",
        "\n",
        "Here's a breakdown of the code:\n",
        "\n",
        "```python\n",
        "from collections import Counter\n",
        "from typing import List\n",
        "import heapq\n",
        "\n",
        "class Solution:\n",
        "    def topKFrequent(self, nums: List[int], k: int) -> List[int]:\n",
        "        # O(1) time\n",
        "        if k == len(nums):\n",
        "            return nums\n",
        "        \n",
        "        # 1. Build hash map: character and how often it appears\n",
        "        # O(N) time\n",
        "        count = Counter(nums)   \n",
        "        # 2-3. Build heap of top k frequent elements and\n",
        "        # convert it into an output array\n",
        "        # O(N log k) time\n",
        "        return heapq.nlargest(k, count.keys(), key=count.get)\n",
        "```\n",
        "\n",
        "1. **Imports**:\n",
        "   - `Counter` from `collections`: A specialized dictionary that counts hashable objects\n",
        "   - `List` from `typing`: Used for type annotations\n",
        "   - `heapq`: A module that implements the heap queue algorithm (priority queue)\n",
        "\n",
        "2. **Function Definition**:\n",
        "   - `topKFrequent(nums: List[int], k: int) -> List[int]`: Takes an array of integers and an integer k, returns k most frequent elements\n",
        "\n",
        "3. **Base Case Check**:\n",
        "   - `if k == len(nums): return nums`: If k equals the length of the array, all elements are returned since all elements would be in the \"top k\"\n",
        "\n",
        "4. **Frequency Counting**:\n",
        "   - `count = Counter(nums)`: Creates a dictionary where keys are the unique elements in `nums` and values are their frequencies\n",
        "   - Time complexity: O(N) where N is the length of `nums`\n",
        "\n",
        "5. **Finding Top K Elements**:\n",
        "   - `heapq.nlargest(k, count.keys(), key=count.get)`:\n",
        "     - First argument `k`: Number of elements to return\n",
        "     - Second argument `count.keys()`: The collection of keys to choose from\n",
        "     - Third argument `key=count.get`: The function to extract the comparison value (frequency)\n",
        "   - This returns the k keys with the largest values when passed to `count.get`\n",
        "   - Time complexity: O(N log k) where N is the number of unique elements in `nums`\n",
        "\n",
        "Overall time complexity: O(N log k), which is more efficient than sorting all elements by frequency (which would be O(N log N)).\n",
        "\n"
      ],
      "metadata": {
        "id": "3jH1NtXsYI4p"
      }
    },
    {
      "cell_type": "code",
      "source": [
        "from collections import Counter\n",
        "from typing import List\n",
        "import heapq\n",
        "\n",
        "class Solution:\n",
        "    def topKFrequent(self, nums: List[int], k: int) -> List[int]:\n",
        "        # O(1) time\n",
        "        if k == len(nums):\n",
        "            return nums\n",
        "\n",
        "        # 1. Build hash map: character and how often it appears\n",
        "        # O(N) time\n",
        "        count = Counter(nums)\n",
        "        # 2-3. Build heap of top k frequent elements and\n",
        "        # convert it into an output array\n",
        "        # O(N log k) time\n",
        "        return heapq.nlargest(k, count.keys(), key=count.get)"
      ],
      "metadata": {
        "id": "hvudXOI6YJKm"
      },
      "execution_count": 2,
      "outputs": []
    },
    {
      "cell_type": "code",
      "source": [
        "# Test cases\n",
        "if __name__ == \"__main__\":\n",
        "    solution = Solution()\n",
        "\n",
        "    # Test case 1: Basic example\n",
        "    nums1 = [1, 1, 1, 2, 2, 3]\n",
        "    k1 = 2\n",
        "    print(f\"Test 1: Top {k1} frequent elements in {nums1}\")\n",
        "    print(f\"Result: {solution.topKFrequent(nums1, k1)}\")\n",
        "    print(f\"Expected: [1, 2]\")  # 1 appears 3 times, 2 appears 2 times\n",
        "\n",
        "    # Test case 2: All elements have same frequency\n",
        "    nums2 = [1, 2, 3, 4]\n",
        "    k2 = 2\n",
        "    print(f\"\\nTest 2: Top {k2} frequent elements in {nums2}\")\n",
        "    print(f\"Result: {solution.topKFrequent(nums2, k2)}\")\n",
        "    print(f\"Expected: Any 2 elements from [1, 2, 3, 4]\")  # All appear once\n",
        "\n",
        "    # Test case 3: k equals array length\n",
        "    nums3 = [5, 3, 1, 1, 5, 4]\n",
        "    k3 = len(nums3)\n",
        "    print(f\"\\nTest 3: Top {k3} frequent elements in {nums3}\")\n",
        "    print(f\"Result: {solution.topKFrequent(nums3, k3)}\")\n",
        "    print(f\"Expected: {nums3}\")  # All elements returned\n",
        "\n",
        "    # Test case 4: Larger example\n",
        "    nums4 = [5, 5, 5, 2, 2, 2, 2, 1, 1, 3, 3, 3, 3, 3, 4]\n",
        "    k4 = 3\n",
        "    print(f\"\\nTest 4: Top {k4} frequent elements in {nums4}\")\n",
        "    print(f\"Result: {solution.topKFrequent(nums4, k4)}\")\n",
        "    print(f\"Expected: [3, 2, 5]\")  # 3 appears 5 times, 2 appears 4 times, 5 appears 3 times"
      ],
      "metadata": {
        "colab": {
          "base_uri": "https://localhost:8080/"
        },
        "id": "95G1UJUGY6EX",
        "outputId": "b20515de-2b7e-4cff-81b9-fb05245ae284"
      },
      "execution_count": 3,
      "outputs": [
        {
          "output_type": "stream",
          "name": "stdout",
          "text": [
            "Test 1: Top 2 frequent elements in [1, 1, 1, 2, 2, 3]\n",
            "Result: [1, 2]\n",
            "Expected: [1, 2]\n",
            "\n",
            "Test 2: Top 2 frequent elements in [1, 2, 3, 4]\n",
            "Result: [1, 2]\n",
            "Expected: Any 2 elements from [1, 2, 3, 4]\n",
            "\n",
            "Test 3: Top 6 frequent elements in [5, 3, 1, 1, 5, 4]\n",
            "Result: [5, 3, 1, 1, 5, 4]\n",
            "Expected: [5, 3, 1, 1, 5, 4]\n",
            "\n",
            "Test 4: Top 3 frequent elements in [5, 5, 5, 2, 2, 2, 2, 1, 1, 3, 3, 3, 3, 3, 4]\n",
            "Result: [3, 2, 5]\n",
            "Expected: [3, 2, 5]\n"
          ]
        }
      ]
    }
  ]
}