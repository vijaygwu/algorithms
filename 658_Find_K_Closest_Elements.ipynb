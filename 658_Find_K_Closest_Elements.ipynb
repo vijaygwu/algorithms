{
  "nbformat": 4,
  "nbformat_minor": 0,
  "metadata": {
    "colab": {
      "provenance": [],
      "authorship_tag": "ABX9TyPxPsrqPtUzdPDlgYZdoxHk",
      "include_colab_link": true
    },
    "kernelspec": {
      "name": "python3",
      "display_name": "Python 3"
    },
    "language_info": {
      "name": "python"
    }
  },
  "cells": [
    {
      "cell_type": "markdown",
      "metadata": {
        "id": "view-in-github",
        "colab_type": "text"
      },
      "source": [
        "<a href=\"https://colab.research.google.com/github/vijaygwu/algorithms/blob/main/658_Find_K_Closest_Elements.ipynb\" target=\"_parent\"><img src=\"https://colab.research.google.com/assets/colab-badge.svg\" alt=\"Open In Colab\"/></a>"
      ]
    },
    {
      "cell_type": "markdown",
      "source": [
        "Given a sorted integer array arr, two integers k and x, return the k closest integers to x in the array. The result should also be sorted in ascending order.\n",
        "\n",
        "An integer a is closer to x than an integer b if:\n",
        "\n",
        "|a - x| < |b - x|, or\n",
        "|a - x| == |b - x| and a < b\n",
        "\n",
        "\n",
        "**Example 1:**\n",
        "\n",
        "Input: arr = [1,2,3,4,5], k = 4, x = 3\n",
        "\n",
        "Output: [1,2,3,4]\n",
        "\n",
        "**Example 2:**\n",
        "\n",
        "Input: arr = [1,1,2,3,4,5], k = 4, x = -1\n",
        "\n",
        "Output: [1,1,2,3]\n",
        "\n",
        "**Constraints:**\n",
        "\n",
        "1 <= k <= arr.length\n",
        "1 <= arr.length <= 104\n",
        "arr is sorted in ascending order.\n",
        "-10^4 <= arr[i], x <= 10^4"
      ],
      "metadata": {
        "id": "1PdtBTJSsduo"
      }
    },
    {
      "cell_type": "markdown",
      "source": [
        "This algorithm is designed to find k closest elements to a given value x in a sorted array.\n",
        "\n",
        "```python\n",
        "class Solution:\n",
        "    def findClosestElements(self, arr: List[int], k: int, x: int) -> List[int]:\n",
        "        # Initialize binary search bounds\n",
        "        left = 0\n",
        "        right = len(arr) - k\n",
        "        \n",
        "        # Binary search against the criteria described\n",
        "        while left < right:\n",
        "            mid = (left + right) // 2\n",
        "            if x - arr[mid] > arr[mid + k] - x:\n",
        "                left = mid + 1\n",
        "            else:\n",
        "                right = mid\n",
        "\n",
        "        return arr[left:left + k]\n",
        "```\n",
        "\n",
        "This algorithm uses binary search to efficiently find the starting position of a subarray of k elements that are closest to the target value x. Here's what it does:\n",
        "\n",
        "1. **Initialization**:\n",
        "   - `left = 0` - Starting from the beginning of the array\n",
        "   - `right = len(arr) - k` - This is the furthest possible starting position for a k-element subarray\n",
        "\n",
        "2. **Binary Search Logic**:\n",
        "   - Instead of searching for x directly, we're searching for the best starting position for our k-element window\n",
        "   - At each step, we calculate `mid` as the middle position between `left` and `right`\n",
        "   - The key comparison is: `x - arr[mid] > arr[mid + k] - x`\n",
        "\n",
        "3. **The Comparison Explained**:\n",
        "   - `x - arr[mid]` is the distance from x to the element at the left edge of the window\n",
        "   - `arr[mid + k] - x` is the distance from x to the element just outside the right edge of the window\n",
        "   - If `x - arr[mid] > arr[mid + k] - x`, it means the element just outside our window on the right is closer to x than the leftmost element in our current window\n",
        "   - In this case, we should move our window to the right by setting `left = mid + 1`\n",
        "   - Otherwise, we keep the left boundary and narrow the search by setting `right = mid`\n",
        "\n",
        "4. **Result**:\n",
        "   - When `left` equals `right`, we've found our optimal starting position\n",
        "   - We return the subarray `arr[left:left + k]` which contains the k closest elements to x\n",
        "\n",
        "This algorithm has O(log(n-k)) time complexity for the binary search and O(k) for slicing the array to return the result, where n is the length of the input array.\n"
      ],
      "metadata": {
        "id": "GJBvRLkcstRJ"
      }
    },
    {
      "cell_type": "code",
      "source": [
        "from typing import List\n",
        "\n",
        "class Solution:\n",
        "    def findClosestElements(self, arr: List[int], k: int, x: int) -> List[int]:\n",
        "        # Initialize binary search bounds\n",
        "        left = 0\n",
        "        right = len(arr) - k\n",
        "\n",
        "        # Binary search against the criteria described\n",
        "        while left < right:\n",
        "            mid = (left + right) // 2\n",
        "            if x - arr[mid] > arr[mid + k] - x:\n",
        "                left = mid + 1\n",
        "            else:\n",
        "                right = mid\n",
        "\n",
        "        return arr[left:left + k]\n",
        "# Brute force solution for comparison\n",
        "def findClosestElementsBruteForce(arr: List[int], k: int, x: int) -> List[int]:\n",
        "    # Sort by distance to x, then by value if distances are equal\n",
        "    return sorted(sorted(arr, key=lambda num: (abs(num - x), num))[:k])\n"
      ],
      "metadata": {
        "id": "CFZInRQdstgS"
      },
      "execution_count": 17,
      "outputs": []
    },
    {
      "cell_type": "code",
      "source": [
        "class TestFindClosestElements(unittest.TestCase):\n",
        "    def setUp(self):\n",
        "        self.solution = Solution()\n",
        "\n",
        "    def test_target_in_array(self):\n",
        "        # Target value exists in array\n",
        "        arr = [1, 2, 3, 4, 5]\n",
        "        k = 3\n",
        "        x = 3\n",
        "        expected = [2, 3, 4]\n",
        "        self.assertEqual(self.solution.findClosestElements(arr, k, x), expected)\n",
        "\n",
        "    def test_target_between_elements(self):\n",
        "        # Target value between elements\n",
        "        arr = [1, 2, 5, 6, 9, 14]\n",
        "        k = 2\n",
        "        x = 7\n",
        "        expected = [5, 6]\n",
        "        self.assertEqual(self.solution.findClosestElements(arr, k, x), expected)\n",
        "\n",
        "    def test_target_greater_than_all(self):\n",
        "        # Target greater than all elements\n",
        "        arr = [1, 2, 3, 4, 5]\n",
        "        k = 4\n",
        "        x = 10\n",
        "        expected = [2, 3, 4, 5]\n",
        "        self.assertEqual(self.solution.findClosestElements(arr, k, x), expected)\n",
        "\n",
        "    def test_target_less_than_all(self):\n",
        "        # Target less than all elements\n",
        "        arr = [1, 2, 3, 4, 5]\n",
        "        k = 4\n",
        "        x = -5\n",
        "        expected = [1, 2, 3, 4]\n",
        "        self.assertEqual(self.solution.findClosestElements(arr, k, x), expected)\n",
        "\n",
        "    def test_with_duplicates(self):\n",
        "        # Array with duplicate elements\n",
        "        arr = [1, 1, 1, 10, 10, 10]\n",
        "        k = 3\n",
        "        x = 5\n",
        "        expected = [1, 1, 1]\n",
        "        self.assertEqual(self.solution.findClosestElements(arr, k, x), expected)\n",
        "\n",
        "    def test_all_elements(self):\n",
        "        # Request all elements\n",
        "        arr = [1, 2, 3, 4, 5]\n",
        "        k = 5\n",
        "        x = 3\n",
        "        expected = [1, 2, 3, 4, 5]\n",
        "        self.assertEqual(self.solution.findClosestElements(arr, k, x), expected)\n",
        "\n",
        "    def test_single_element(self):\n",
        "        # Single element array\n",
        "        arr = [5]\n",
        "        k = 1\n",
        "        x = 3\n",
        "        expected = [5]\n",
        "        self.assertEqual(self.solution.findClosestElements(arr, k, x), expected)\n",
        "\n",
        "    def test_special_case(self):\n",
        "        # Special case showcasing the comparison logic\n",
        "        arr = [0, 1, 1, 1, 2, 3, 3, 7, 8, 8]\n",
        "        k = 3\n",
        "        x = 5\n",
        "        expected = [3, 3, 7]\n",
        "        self.assertEqual(self.solution.findClosestElements(arr, k, x), expected)\n",
        "\n",
        "    def test_compare_with_brute_force(self):\n",
        "        # Compare with brute force solution for various inputs\n",
        "        test_cases = [\n",
        "            ([1, 2, 3, 4, 5], 3, 3),\n",
        "            ([1, 2, 5, 6, 9, 14], 2, 7),\n",
        "            ([1, 2, 3, 4, 5], 4, 10),\n",
        "            ([1, 2, 3, 4, 5], 4, -5),\n",
        "            ([1, 1, 1, 10, 10, 10], 3, 5),\n",
        "            ([1, 2, 3, 4, 5, 6, 7], 7, 4),\n",
        "            ([5], 1, 3),\n",
        "            ([1, 3, 7, 9, 11, 13, 15], 3, 8),\n",
        "            ([0, 0, 1, 2, 3, 3, 4, 7, 7, 8], 3, 5)\n",
        "        ]\n",
        "\n",
        "        for arr, k, x in test_cases:\n",
        "            optimized = self.solution.findClosestElements(arr, k, x)\n",
        "            brute_force = findClosestElementsBruteForce(arr, k, x)\n",
        "            self.assertEqual(optimized, brute_force,\n",
        "                            f\"Failed for arr={arr}, k={k}, x={x}. Got {optimized}, expected {brute_force}\")\n",
        "\n",
        "\n",
        "# Run tests with detailed output\n",
        "if __name__ == \"__main__\":\n",
        "    print(\"Running test cases for findClosestElements algorithm...\")\n",
        "    unittest.main(argv=['first-arg-is-ignored'], exit=False)\n",
        ""
      ],
      "metadata": {
        "colab": {
          "base_uri": "https://localhost:8080/"
        },
        "id": "oq3geELUupE1",
        "outputId": "348c8513-ebdd-4f5c-c5c0-f3dbf3dfadf2"
      },
      "execution_count": 19,
      "outputs": [
        {
          "output_type": "stream",
          "name": "stderr",
          "text": [
            ".........\n",
            "----------------------------------------------------------------------\n",
            "Ran 9 tests in 0.008s\n",
            "\n",
            "OK\n"
          ]
        },
        {
          "output_type": "stream",
          "name": "stdout",
          "text": [
            "Running test cases for findClosestElements algorithm...\n"
          ]
        }
      ]
    }
  ]
}