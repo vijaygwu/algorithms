{
  "nbformat": 4,
  "nbformat_minor": 0,
  "metadata": {
    "colab": {
      "provenance": [],
      "authorship_tag": "ABX9TyOEhEDXavc9BkRjVUCs1Cut",
      "include_colab_link": true
    },
    "kernelspec": {
      "name": "python3",
      "display_name": "Python 3"
    },
    "language_info": {
      "name": "python"
    }
  },
  "cells": [
    {
      "cell_type": "markdown",
      "metadata": {
        "id": "view-in-github",
        "colab_type": "text"
      },
      "source": [
        "<a href=\"https://colab.research.google.com/github/vijaygwu/algorithms/blob/main/TwoSum.ipynb\" target=\"_parent\"><img src=\"https://colab.research.google.com/assets/colab-badge.svg\" alt=\"Open In Colab\"/></a>"
      ]
    },
    {
      "cell_type": "markdown",
      "source": [
        "This is a Python solution for the \"Two Sum\" problem, which requires finding two numbers in an array that add up to a target value and returning their indices.\n",
        "\n",
        "```python\n",
        "def twoSum(self, nums: List[int], target: int) -> List[int]:\n",
        "    hashmap = {}\n",
        "    for i in range(len(nums)):\n",
        "        complement = target - nums[i]\n",
        "        if complement in hashmap:\n",
        "            return [i, hashmap[complement]]\n",
        "        hashmap[nums[i]] = i\n",
        "    # Return an empty list if no solution is found\n",
        "    return []\n",
        "```\n",
        "\n",
        "Here's how this solution works:\n",
        "\n",
        "1. It creates an empty dictionary called `hashmap` to store values we've seen and their indices.\n",
        "\n",
        "2. It iterates through the array using `for i in range(len(nums))`:\n",
        "   - For each number, it calculates the `complement` (the value needed to reach the target): `complement = target - nums[i]`\n",
        "   - It checks if this complement exists in our hashmap, meaning we've seen it before\n",
        "   - If found, it immediately returns the current index `i` and the index of the complement `hashmap[complement]`\n",
        "   - If not found, it adds the current number and its index to the hashmap: `hashmap[nums[i]] = i`\n",
        "\n",
        "3. If no solution is found after checking all numbers, it returns an empty list.\n",
        "\n",
        "The time complexity is O(n) where n is the length of the array, as we only need to traverse the array once. The space complexity is also O(n) in the worst case, as we might need to store all elements in the hashmap.\n",
        "\n",
        "The solution is elegant because it uses a hashmap for O(1) lookups instead of the naive O(n²) approach of checking every possible pair. As we iterate through the array, we're essentially asking \"Have we seen the complement of this number before?\" If yes, we've found our answer. If not, we store this number for future reference.\n"
      ],
      "metadata": {
        "id": "-L5_W3SssINW"
      }
    },
    {
      "cell_type": "code",
      "source": [
        "from typing import List\n",
        "\n",
        "class Solution:\n",
        "    def twoSum(self, nums: List[int], target: int) -> List[int]:\n",
        "        hashmap = {}\n",
        "        for i in range(len(nums)):\n",
        "            complement = target - nums[i]\n",
        "            if complement in hashmap:\n",
        "                return [i, hashmap[complement]]\n",
        "            hashmap[nums[i]] = i\n",
        "        # Return an empty list if no solution is found\n",
        "        return []\n",
        "\n",
        "# Test cases\n",
        "def test_twoSum():\n",
        "    solution = Solution()\n",
        "\n",
        "    # Test case 1: Basic example\n",
        "    assert sorted(solution.twoSum([2, 7, 11, 15], 9)) == [0, 1]\n",
        "\n",
        "    # Test case 2: Numbers in middle of array\n",
        "    assert sorted(solution.twoSum([3, 2, 4], 6)) == [1, 2]\n",
        "\n",
        "    # Test case 3: Same number used twice\n",
        "    assert sorted(solution.twoSum([3, 3], 6)) == [0, 1]\n",
        "\n",
        "    # Test case 4: Negative numbers\n",
        "    assert sorted(solution.twoSum([-1, -2, -3, -4, -5], -8)) == [2, 4]\n",
        "\n",
        "    # Test case 5: Zero and positive numbers\n",
        "    assert sorted(solution.twoSum([0, 4, 3, 0], 0)) == [0, 3]\n",
        "\n",
        "    # Test case 6: Larger array\n",
        "    assert sorted(solution.twoSum([10, 70, 30, 40, 50, 60, 70], 100)) == [1, 2]\n",
        "\n",
        "    # Test case 7: No solution\n",
        "    assert solution.twoSum([1, 2, 3], 7) == []\n",
        "\n",
        "    print(\"All test cases passed!\")\n",
        "\n",
        "# Run the tests\n",
        "test_twoSum()"
      ],
      "metadata": {
        "colab": {
          "base_uri": "https://localhost:8080/"
        },
        "id": "2iBzW0wRsIgz",
        "outputId": "c12bd5d6-bea8-4c33-fcd3-872d21b15c78"
      },
      "execution_count": 12,
      "outputs": [
        {
          "output_type": "stream",
          "name": "stdout",
          "text": [
            "All test cases passed!\n"
          ]
        }
      ]
    }
  ]
}