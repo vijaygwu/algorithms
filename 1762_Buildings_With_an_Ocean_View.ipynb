{
  "nbformat": 4,
  "nbformat_minor": 0,
  "metadata": {
    "colab": {
      "provenance": [],
      "authorship_tag": "ABX9TyPi/Jr5TMh0j0fAk4gGfF2C",
      "include_colab_link": true
    },
    "kernelspec": {
      "name": "python3",
      "display_name": "Python 3"
    },
    "language_info": {
      "name": "python"
    }
  },
  "cells": [
    {
      "cell_type": "markdown",
      "metadata": {
        "id": "view-in-github",
        "colab_type": "text"
      },
      "source": [
        "<a href=\"https://colab.research.google.com/github/vijaygwu/algorithms/blob/main/1762_Buildings_With_an_Ocean_View.ipynb\" target=\"_parent\"><img src=\"https://colab.research.google.com/assets/colab-badge.svg\" alt=\"Open In Colab\"/></a>"
      ]
    },
    {
      "cell_type": "markdown",
      "source": [
        "There are n buildings in a line. You are given an integer array heights of size n that represents the heights of the buildings in the line.\n",
        "\n",
        "The ocean is to the right of the buildings. A building has an ocean view if the building can see the ocean without obstructions. Formally, a building has an ocean view if all the buildings to its right have a smaller height.\n",
        "\n",
        "Return a list of indices (0-indexed) of buildings that have an ocean view, sorted in increasing order.\n",
        "\n",
        "**Example 1:**\n",
        "\n",
        "Input: heights = [4,2,3,1]\n",
        "Output: [0,2,3]\n",
        "Explanation: Building 1 (0-indexed) does not have an ocean view because building 2 is taller.\n",
        "\n",
        "**Example 2:**\n",
        "\n",
        "Input: heights = [4,3,2,1]\n",
        "Output: [0,1,2,3]\n",
        "Explanation: All the buildings have an ocean view.\n",
        "\n",
        "**Example 3:**\n",
        "\n",
        "Input: heights = [1,3,2,4]\n",
        "Output: [3]\n",
        "Explanation: Only building 3 has an ocean view.\n",
        "\n",
        "\n",
        "**Constraints:**\n",
        "\n",
        "1 <= heights.length <= 105\n",
        "1 <= heights[i] <= 109"
      ],
      "metadata": {
        "id": "uwnJxj0BHDZt"
      }
    },
    {
      "cell_type": "markdown",
      "source": [
        "Think of each building as a kid at a concert trying to see the stage. A building can “see the ocean” (or the stage) if every building to its **right** is strictly shorter.  \n",
        "\n",
        "The goal: return the indices of all such lucky buildings — in increasing order.\n",
        "\n",
        "```python\n",
        "class Solution:\n",
        "    def findBuildings(self, heights: List[int]) -> List[int]:\n",
        "        n = len(heights)          # how many buildings we have\n",
        "        answer = []               # stack of *indices* that can currently see the ocean\n",
        "\n",
        "        for current in range(n):  # walk left‑to‑right\n",
        "            # While some building already on the stack is the same height\n",
        "            # or shorter than the current one, it loses its view.\n",
        "            while answer and heights[answer[-1]] <= heights[current]:\n",
        "                answer.pop()      # pop it off the stack (good‑bye, view!)\n",
        "            answer.append(current)  # current building *might* have a view, push its index\n",
        "\n",
        "        return answer             # already in ascending order\n",
        "```\n",
        "\n",
        "### Why this works (a monotonic‑decreasing stack)\n",
        "\n",
        "1. **Stack invariant**  \n",
        "   - At any moment, `answer` holds indices whose heights **strictly decrease** from bottom to top (left to right).  \n",
        "   - That means each stored building is taller than any building that comes after it in the stack, so all of them currently see the ocean.\n",
        "\n",
        "2. **Processing a new building**  \n",
        "   - If the newcomer is **taller or equal** to the one on top of the stack, that top building loses its ocean view. Pop it.  \n",
        "   - Keep popping until the top is taller than the newcomer (or the stack is empty).  \n",
        "   - Push the newcomer index; it might block someone to its left later, but for now it has a clear line of sight.\n",
        "\n",
        "3. **Order is preserved**  \n",
        "   - Because we scan left → right and only push once per index, the final stack already contains indices in ascending order, exactly as required.\n",
        "\n",
        "### Complexity\n",
        "\n",
        "| Aspect        | Cost |\n",
        "|--------------|------|\n",
        "| Time          | **O(n)** – each index is pushed once and popped at most once. |\n",
        "| Extra space   | **O(k)** – at most the number of buildings that end up with a view (worst‑case `n`). |\n",
        "\n",
        "### Tiny walk‑through\n",
        "\n",
        "`heights = [4, 2, 3, 1]`\n",
        "\n",
        "| Step | current | stack before | action                 | stack after |\n",
        "|------|---------|--------------|------------------------|-------------|\n",
        "| 0    | 4       | []           | push 0                 | [0]         |\n",
        "| 1    | 2       | [0]          | 2 < 4 → push 1         | [0, 1]      |\n",
        "| 2    | 3       | [0, 1]       | pop 1 (2 ≤ 3)          | [0]         |\n",
        "|      |         |              | 3 < 4 → push 2         | [0, 2]      |\n",
        "| 3    | 1       | [0, 2]       | 1 < 3 → push 3         | [0, 2, 3]   |\n",
        "\n",
        "Indices `[0, 2, 3]` are returned, matching the intuitive answer.\n",
        "\n",
        "### Key take‑aways\n",
        "\n",
        "* This is the classic **monotonic stack** trick: keep elements in sorted order so future comparisons are O(1).  \n",
        "* The moment you see `while stack and heights[stack[-1]] <= current_height: stack.pop()` you can almost smell an O(n) algorithm that “kills off” dominated elements.  \n",
        "* Equal height also blocks the view (hence the `<=` comparison) because “strictly shorter” is required.\n"
      ],
      "metadata": {
        "id": "TRxND10hHUPr"
      }
    },
    {
      "cell_type": "code",
      "source": [
        "from typing import List\n",
        "\n",
        "class Solution:\n",
        "    def findBuildings(self, heights: List[int]) -> List[int]:\n",
        "        n = len(heights)\n",
        "        answer = []\n",
        "\n",
        "        for current in range(n):\n",
        "            while answer and heights[answer[-1]] <= heights[current]:\n",
        "                answer.pop()\n",
        "            answer.append(current)\n",
        "\n",
        "        return answer\n",
        ""
      ],
      "metadata": {
        "id": "6nzTZ0WWHwI3"
      },
      "execution_count": 2,
      "outputs": []
    }
  ]
}